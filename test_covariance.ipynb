{
 "cells": [
  {
   "cell_type": "code",
   "execution_count": 38,
   "id": "66f21661-8728-4d59-ab2e-3366eccf54f9",
   "metadata": {},
   "outputs": [],
   "source": [
    "def generate_hard_data_spatial(n1_lb, n1_ub, n2_lb, n2_ub, n3_lb, n3_ub):\n",
    "\n",
    "    n_samples_1 = math.floor(np.random.uniform(n1_lb, n1_ub, 1))  # floor for ints\n",
    "    n_samples_2 = math.floor(np.random.uniform(n2_lb, n2_ub, 1))\n",
    "    n_samples_3 = math.floor(np.random.uniform(n3_lb, n3_ub, 1))\n",
    "\n",
    "    x1 = np.random.uniform(0, 3, n_samples_1)\n",
    "    x2 = np.random.uniform(0, 3, n_samples_1)\n",
    "    error_1 = np.random.normal(0, 2, n_samples_1)\n",
    "    y1 = 2*x1 - 3*x2 + 30 + error_1\n",
    "    true_cluster = 1\n",
    "    longitude = np.random.normal(0, 1, n_samples_1)\n",
    "    latitude = np.random.normal(0, 1, n_samples_1)\n",
    "\n",
    "    data = pd.DataFrame({\"long\": longitude, \"lat\": latitude, \"x1\": x1, \"x2\": x2, \"y1\": y1, \"true_clust\": true_cluster})\n",
    "\n",
    "    x1 = np.random.normal(0, 3, n_samples_2)\n",
    "    x2 = np.random.normal(0, 3, n_samples_2)\n",
    "    error_1 = np.random.normal(0, 2, n_samples_2)\n",
    "    y1 = -2*x1 - 1.5*x2 + 70 + error_1\n",
    "    true_cluster = 2\n",
    "    longitude = np.random.normal(1.5, 1, n_samples_2)\n",
    "    latitude = np.random.normal(1.5, 1, n_samples_2)\n",
    "\n",
    "    data_temp = pd.DataFrame({\"long\": longitude, \"lat\": latitude, \"x1\": x1, \"x2\": x2, \"y1\": y1, \"true_clust\": true_cluster})\n",
    "    data = pd.concat([data, data_temp], ignore_index=True)\n",
    "\n",
    "    x1 = np.random.normal(0, 3, n_samples_3)\n",
    "    x2 = np.random.normal(0, 3, n_samples_3)\n",
    "    error_1 = np.random.normal(0, 2, n_samples_3)\n",
    "    y1 = -3*x1-2*x2+0+error_1\n",
    "    true_cluster = 3\n",
    "    longitude = np.random.normal(-1.5, 1, n_samples_3)\n",
    "    latitude = np.random.normal(-1.5, 1, n_samples_3)\n",
    "\n",
    "    data_temp = pd.DataFrame({\"long\": longitude, \"lat\": latitude, \"x1\": x1, \"x2\": x2, \"y1\": y1, \"true_clust\": true_cluster})\n",
    "    data = pd.concat([data, data_temp], ignore_index=True)\n",
    "\n",
    "    return data"
   ]
  },
  {
   "cell_type": "code",
   "execution_count": 13,
   "id": "8c32e9bf-2122-4859-93d7-70e4b033e35c",
   "metadata": {},
   "outputs": [
    {
     "name": "stderr",
     "output_type": "stream",
     "text": [
      "/nas/longleaf/home/wancen/.conda/envs/GP/lib/python3.9/site-packages/tqdm/auto.py:22: TqdmWarning: IProgress not found. Please update jupyter and ipywidgets. See https://ipywidgets.readthedocs.io/en/stable/user_install.html\n",
      "  from .autonotebook import tqdm as notebook_tqdm\n",
      "<frozen importlib._bootstrap>:228: RuntimeWarning: scipy._lib.messagestream.MessageStream size changed, may indicate binary incompatibility. Expected 56 from C header, got 64 from PyObject\n"
     ]
    }
   ],
   "source": [
    "import math\n",
    "import torch\n",
    "import gpytorch\n",
    "import numpy as np\n",
    "import pandas as pd\n",
    "from matplotlib import pyplot as plt\n",
    "from sklearn.pipeline import Pipeline\n",
    "from scipy.spatial.distance import pdist, squareform\n",
    "from sklearn.model_selection import train_test_split\n",
    "%matplotlib inline\n",
    "%load_ext autoreload\n",
    "%autoreload 2"
   ]
  },
  {
   "cell_type": "code",
   "execution_count": 2,
   "id": "31f156f8-5651-47cd-bee4-4d79c081128c",
   "metadata": {},
   "outputs": [],
   "source": [
    "n1_lb = n2_lb = n3_lb = 150\n",
    "n1_ub = n2_ub = n3_ub = 250"
   ]
  },
  {
   "cell_type": "code",
   "execution_count": 9,
   "id": "220c50c0-d5ac-4761-81e9-f3a0d689a555",
   "metadata": {},
   "outputs": [
    {
     "data": {
      "text/html": [
       "<div>\n",
       "<style scoped>\n",
       "    .dataframe tbody tr th:only-of-type {\n",
       "        vertical-align: middle;\n",
       "    }\n",
       "\n",
       "    .dataframe tbody tr th {\n",
       "        vertical-align: top;\n",
       "    }\n",
       "\n",
       "    .dataframe thead th {\n",
       "        text-align: right;\n",
       "    }\n",
       "</style>\n",
       "<table border=\"1\" class=\"dataframe\">\n",
       "  <thead>\n",
       "    <tr style=\"text-align: right;\">\n",
       "      <th></th>\n",
       "      <th>long</th>\n",
       "      <th>lat</th>\n",
       "      <th>x1</th>\n",
       "      <th>x2</th>\n",
       "      <th>y1</th>\n",
       "      <th>true_clust</th>\n",
       "    </tr>\n",
       "  </thead>\n",
       "  <tbody>\n",
       "    <tr>\n",
       "      <th>0</th>\n",
       "      <td>-1.220905</td>\n",
       "      <td>0.313757</td>\n",
       "      <td>2.362100</td>\n",
       "      <td>2.830181</td>\n",
       "      <td>28.717398</td>\n",
       "      <td>1</td>\n",
       "    </tr>\n",
       "    <tr>\n",
       "      <th>1</th>\n",
       "      <td>0.466140</td>\n",
       "      <td>-1.013908</td>\n",
       "      <td>1.040372</td>\n",
       "      <td>1.259393</td>\n",
       "      <td>27.681955</td>\n",
       "      <td>1</td>\n",
       "    </tr>\n",
       "    <tr>\n",
       "      <th>2</th>\n",
       "      <td>-0.308905</td>\n",
       "      <td>2.253350</td>\n",
       "      <td>0.872930</td>\n",
       "      <td>1.466869</td>\n",
       "      <td>28.726080</td>\n",
       "      <td>1</td>\n",
       "    </tr>\n",
       "    <tr>\n",
       "      <th>3</th>\n",
       "      <td>-1.213139</td>\n",
       "      <td>-1.333214</td>\n",
       "      <td>1.946469</td>\n",
       "      <td>1.962546</td>\n",
       "      <td>29.670701</td>\n",
       "      <td>1</td>\n",
       "    </tr>\n",
       "    <tr>\n",
       "      <th>4</th>\n",
       "      <td>-0.782169</td>\n",
       "      <td>-0.757128</td>\n",
       "      <td>0.330116</td>\n",
       "      <td>0.259124</td>\n",
       "      <td>27.693143</td>\n",
       "      <td>1</td>\n",
       "    </tr>\n",
       "    <tr>\n",
       "      <th>...</th>\n",
       "      <td>...</td>\n",
       "      <td>...</td>\n",
       "      <td>...</td>\n",
       "      <td>...</td>\n",
       "      <td>...</td>\n",
       "      <td>...</td>\n",
       "    </tr>\n",
       "    <tr>\n",
       "      <th>633</th>\n",
       "      <td>-1.049720</td>\n",
       "      <td>-1.391064</td>\n",
       "      <td>0.827462</td>\n",
       "      <td>-4.518531</td>\n",
       "      <td>9.216901</td>\n",
       "      <td>3</td>\n",
       "    </tr>\n",
       "    <tr>\n",
       "      <th>634</th>\n",
       "      <td>-1.441954</td>\n",
       "      <td>-1.505400</td>\n",
       "      <td>1.077059</td>\n",
       "      <td>-1.997551</td>\n",
       "      <td>2.501685</td>\n",
       "      <td>3</td>\n",
       "    </tr>\n",
       "    <tr>\n",
       "      <th>635</th>\n",
       "      <td>-1.612978</td>\n",
       "      <td>-1.680248</td>\n",
       "      <td>-2.726985</td>\n",
       "      <td>-0.764295</td>\n",
       "      <td>7.722246</td>\n",
       "      <td>3</td>\n",
       "    </tr>\n",
       "    <tr>\n",
       "      <th>636</th>\n",
       "      <td>-1.671574</td>\n",
       "      <td>-1.791106</td>\n",
       "      <td>-0.534279</td>\n",
       "      <td>-5.421420</td>\n",
       "      <td>12.571580</td>\n",
       "      <td>3</td>\n",
       "    </tr>\n",
       "    <tr>\n",
       "      <th>637</th>\n",
       "      <td>-0.527838</td>\n",
       "      <td>-3.600574</td>\n",
       "      <td>2.317727</td>\n",
       "      <td>-6.096441</td>\n",
       "      <td>5.327772</td>\n",
       "      <td>3</td>\n",
       "    </tr>\n",
       "  </tbody>\n",
       "</table>\n",
       "<p>638 rows × 6 columns</p>\n",
       "</div>"
      ],
      "text/plain": [
       "         long       lat        x1        x2         y1  true_clust\n",
       "0   -1.220905  0.313757  2.362100  2.830181  28.717398           1\n",
       "1    0.466140 -1.013908  1.040372  1.259393  27.681955           1\n",
       "2   -0.308905  2.253350  0.872930  1.466869  28.726080           1\n",
       "3   -1.213139 -1.333214  1.946469  1.962546  29.670701           1\n",
       "4   -0.782169 -0.757128  0.330116  0.259124  27.693143           1\n",
       "..        ...       ...       ...       ...        ...         ...\n",
       "633 -1.049720 -1.391064  0.827462 -4.518531   9.216901           3\n",
       "634 -1.441954 -1.505400  1.077059 -1.997551   2.501685           3\n",
       "635 -1.612978 -1.680248 -2.726985 -0.764295   7.722246           3\n",
       "636 -1.671574 -1.791106 -0.534279 -5.421420  12.571580           3\n",
       "637 -0.527838 -3.600574  2.317727 -6.096441   5.327772           3\n",
       "\n",
       "[638 rows x 6 columns]"
      ]
     },
     "execution_count": 9,
     "metadata": {},
     "output_type": "execute_result"
    }
   ],
   "source": [
    "dat = generate_hard_data_spatial(n1_lb, n1_ub, n2_lb, n2_ub, n3_lb, n3_ub)\n",
    "dat"
   ]
  },
  {
   "cell_type": "code",
   "execution_count": 48,
   "id": "bc63f9b3-4034-421e-9aec-2f4103b0986c",
   "metadata": {},
   "outputs": [
    {
     "data": {
      "text/plain": [
       "231"
      ]
     },
     "execution_count": 48,
     "metadata": {},
     "output_type": "execute_result"
    }
   ],
   "source": [
    "n_samples_1"
   ]
  },
  {
   "cell_type": "code",
   "execution_count": 12,
   "id": "3e62e30e-d1c7-458b-8b7d-5f2b97397a94",
   "metadata": {},
   "outputs": [
    {
     "data": {
      "text/plain": [
       "<matplotlib.collections.PathCollection at 0x7f08aca29cd0>"
      ]
     },
     "execution_count": 12,
     "metadata": {},
     "output_type": "execute_result"
    },
    {
     "data": {
      "image/png": "[encoded data removed]",
      "text/plain": [
       "<Figure size 432x288 with 1 Axes>"
      ]
     },
     "metadata": {
      "needs_background": "light"
     },
     "output_type": "display_data"
    }
   ],
   "source": [
    "plt.scatter(dat.x1, dat.x2, alpha=0.2,\n",
    "            c=dat.true_clust, cmap='viridis')"
   ]
  },
  {
   "cell_type": "code",
   "execution_count": null,
   "id": "42d7a53c-9bb5-4356-a046-ac90b252f060",
   "metadata": {},
   "outputs": [],
   "source": [
    "train_x = torch.from_numpy(dat[0:])\n",
    "train_y = y_train"
   ]
  },
  {
   "cell_type": "code",
   "execution_count": 52,
   "id": "6e026abb-7fdf-46be-8a3f-5cbf22814a3a",
   "metadata": {},
   "outputs": [],
   "source": [
    "# import positivity constraint\n",
    "from IPython.display import Markdown, display\n",
    "def printmd(string):\n",
    "    display(Markdown(string))\n",
    "from gpytorch.constraints import Interval, Positive\n",
    "\n",
    "class spatialtemporalKernel(gpytorch.kernels.Kernel):\n",
    "    # the sinc kernel is stationary\n",
    "    is_stationary = True\n",
    "    has_lengthscale = True\n",
    "    # We will register the parameter when initializing the kernel\n",
    "    def __init__(self, length_prior=None, length_constraint=None,alpha_prior=None, \n",
    "                 alpha_constraint=None, delta = None, **kwargs):\n",
    "        super().__init__(**kwargs)\n",
    "        \n",
    "        self.delta = delta\n",
    "        # # register the b parameter\n",
    "        # self.register_parameter(\n",
    "        #     name='raw_length', parameter=torch.nn.Parameter(torch.zeros(*self.batch_shape, 1, 1))\n",
    "        # )\n",
    "        # register the similarity parameter\n",
    "        self.register_parameter(\n",
    "            name='raw_alpha', parameter=torch.nn.Parameter(torch.zeros(*self.batch_shape, 1, 1))\n",
    "        )\n",
    "\n",
    "        # set the parameter constraint to be positive, when nothing is specified\n",
    "        # if length_constraint is None:\n",
    "        #     length_constraint = Positive()\n",
    "        if alpha_constraint is None:\n",
    "            alpha_constraint = Positive()\n",
    "        \n",
    "        # register the constraint\n",
    "        # self.register_constraint(\"raw_length\", length_constraint)\n",
    "        self.register_constraint(\"raw_alpha\", alpha_constraint)\n",
    "\n",
    "        # set the parameter prior, see\n",
    "        # https://docs.gpytorch.ai/en/latest/module.html#gpytorch.Module.register_prior\n",
    "        # if length_prior is not None:\n",
    "        #     self.register_prior(\n",
    "        #         \"length_prior\",\n",
    "        #         length_prior,\n",
    "        #         lambda m: m.length,\n",
    "        #         lambda m, v : m._set_length(v),\n",
    "        #     )\n",
    "        if alpha_prior is not None:\n",
    "            self.register_prior(\n",
    "                \"alpha_prior\",\n",
    "                alpha_prior,\n",
    "                lambda m: m.alpha,\n",
    "                lambda m, v : m._set_alpha(v),\n",
    "            )\n",
    "        \n",
    "    # now set up the 'actual' paramter\n",
    "#     @property\n",
    "#     def length(self):\n",
    "#         # when accessing the parameter, apply the constraint transform\n",
    "#         return self.raw_length_constraint.transform(self.raw_length)\n",
    "\n",
    "#     @length.setter\n",
    "#     def length(self, value):\n",
    "#         return self._set_length(value)\n",
    "    \n",
    "#     def _set_length(self, value):\n",
    "#         if not torch.is_tensor(value):\n",
    "#             value = torch.as_tensor(value).to(self.raw_length)\n",
    "#         # when setting the paramater, transform the actual value to a raw one by applying the inverse transform\n",
    "#         self.initialize(raw_length=self.raw_length_constraint.inverse_transform(value))\n",
    "#     # now set up the 'actual' paramter\n",
    "    @property\n",
    "    def alpha(self):\n",
    "        # when accessing the parameter, apply the constraint transform\n",
    "        return self.raw_alpha_constraint.transform(self.raw_alpha)\n",
    "\n",
    "    @alpha.setter\n",
    "    def alpha(self, value):\n",
    "        return self._set_alpha(value)\n",
    "    # now set up the 'actual' paramter\n",
    "    def _set_alpha(self, value):\n",
    "        if not torch.is_tensor(value):\n",
    "            value = torch.as_tensor(value).to(self.raw_alpha)\n",
    "        # when setting the paramater, transform the actual value to a raw one by applying the inverse transform\n",
    "        self.initialize(raw_alpha=self.raw_alpha_constraint.inverse_transform(value))\n",
    "        \n",
    "        \n",
    "    # this is the kernel function\n",
    "    def forward(self, x1, x2, **params):\n",
    "        # calculate the distance between inputs\n",
    "        Dnom = self.covar_dist(x1, x2, square_dist=True, **params)\n",
    "        A = (self.alpha)*(self.delta)+1\n",
    "        D = Dnom.div(-A)\n",
    "        C = torch.exp(self.lengthscale * D)\n",
    "        return C.div(A)"
   ]
  },
  {
   "cell_type": "code",
   "execution_count": 57,
   "id": "9e1c734b-9725-4cb2-a527-a47e512a0784",
   "metadata": {},
   "outputs": [],
   "source": [
    "import os\n",
    "smoke_test = ('CI' in os.environ)\n",
    "training_iter = 100\n",
    "\n",
    "# Wrap training, prediction and plotting from the ExactGP-Tutorial into a function,\n",
    "# so that we do not have to repeat the code later on\n",
    "def train(model, likelihood, training_iter=training_iter):\n",
    "    # Use the adam optimizer\n",
    "    # optimizer = torch.optim.LBFGS(model.parameters())  # Includes GaussianLikelihood parameters\n",
    "    optimizer = torch.optim.Adam(model.parameters(),lr=0.2) \n",
    "    # \"Loss\" for GPs - the marginal log likelihood\n",
    "    mll = gpytorch.mlls.ExactMarginalLogLikelihood(likelihood, model)\n",
    "    constraint = model.covar_module.base_kernel.raw_alpha_constraint\n",
    "    \n",
    "    # h_lbfgs = []\n",
    "    for i in range(training_iter):\n",
    "        # Zero gradients from previous iteration\n",
    "        optimizer.zero_grad()\n",
    "        # Output from model\n",
    "        output = model(train_x)\n",
    "        # Calc loss and backprop gradients\n",
    "        loss = -mll(output, train_y)\n",
    "        loss.backward()\n",
    "        print('Iter %d/%d - Loss: %.3f  lengthscale: %.3f  alpha: %.3f   noise: %.3f' % (\n",
    "        i + 1, training_iter, loss.item(),\n",
    "        # constraint.transform(model.covar_module.base_kernel.raw_length),\n",
    "        # constraint.transform(model.covar_module.base_kernel.raw_alpha),\n",
    "        constraint.transform(model.covar_module.base_kernel.raw_lengthscale),\n",
    "        constraint.transform(model.covar_module.base_kernel.raw_alpha),\n",
    "        # model.covar_module.base_kernel.raw_shift.item(),\n",
    "        model.likelihood.noise.item()\n",
    "        ))\n",
    "        optimizer.step()\n",
    "        # optimizer.step(lambda: -mll(output, train_y))\n",
    "        # h_lbfgs.append(objective.item())"
   ]
  },
  {
   "cell_type": "code",
   "execution_count": 61,
   "id": "3a902006-32e5-4e5c-a2c0-ce7f8fc8ada0",
   "metadata": {},
   "outputs": [],
   "source": [
    "from botorch import fit_gpytorch_model\n",
    "def train(model, likelihood, training_iter=training_iter):\n",
    "    # Use the adam optimizer\n",
    "    # optimizer = torch.optim.Adam(model.parameters(),lr=0.1) \n",
    "    optimizer = torch.optim.LBFGS(model.parameters())\n",
    "    # \"Loss\" for GPs - the marginal log likelihood\n",
    "    mll = gpytorch.mlls.ExactMarginalLogLikelihood(likelihood, model)\n",
    "    # constraint = model.covar_module.base_kernel.raw_length_constraint\n",
    "    fit_gpytorch_model(mll)\n",
    "    # for i in range(training_iter):\n",
    "    # # Zero gradients from previous iteration\n",
    "    #     optimizer.zero_grad()\n",
    "    #     # Output from model\n",
    "    #     output = model(train_x)\n",
    "    #     # Calc loss and backprop gradients\n",
    "    #     loss = -mll(output, train_y)\n",
    "    #     loss.backward()\n",
    "    #     print('Iter %d/%d - Loss: %.3f   lengthscale: %.3f   noise: %.3f' % (\n",
    "    #         i + 1, training_iter, loss.item(),\n",
    "    #         model.covar_module.base_kernel.lengthscale.item(),\n",
    "    #         model.likelihood.noise.item()\n",
    "    #     ))\n",
    "    #     # optimizer.step()\n",
    "    #     optimizer.step(lambda: -mll(output, train_y))\n",
    "    return model, likelihood"
   ]
  },
  {
   "cell_type": "markdown",
   "id": "377fee49-45c8-4ed0-b997-2e6937b7b017",
   "metadata": {},
   "source": [
    "# Trained on cluster 1"
   ]
  },
  {
   "cell_type": "code",
   "execution_count": 73,
   "id": "f722e32e-68b4-4ee8-8ed8-3231d9c9de5c",
   "metadata": {},
   "outputs": [],
   "source": [
    "pairwise_distances = squareform(pdist(dat.iloc[0:n_samples_1,0:2]))**2\n",
    "pairwise_distances\n",
    "train_x = torch.tensor(np.array(dat.iloc[0:n_samples_1,2:4]))\n",
    "train_y = torch.tensor(np.array(dat.y1[:n_samples_1]))\n",
    "delta = torch.from_numpy(pairwise_distances)"
   ]
  },
  {
   "cell_type": "code",
   "execution_count": 74,
   "id": "b703af6c-1215-4e24-832a-f8cc5f7f12f7",
   "metadata": {},
   "outputs": [
    {
     "data": {
      "text/plain": [
       "(MGGPModel(\n",
       "   (likelihood): GaussianLikelihood(\n",
       "     (noise_covar): HomoskedasticNoise(\n",
       "       (raw_noise_constraint): GreaterThan(1.000E-04)\n",
       "     )\n",
       "   )\n",
       "   (mean_module): ZeroMean()\n",
       "   (covar_module): ScaleKernel(\n",
       "     (base_kernel): spatialtemporalKernel(\n",
       "       (raw_lengthscale_constraint): Positive()\n",
       "       (raw_alpha_constraint): Positive()\n",
       "       (distance_module): Distance()\n",
       "     )\n",
       "     (raw_outputscale_constraint): Positive()\n",
       "   )\n",
       " ),\n",
       " GaussianLikelihood(\n",
       "   (noise_covar): HomoskedasticNoise(\n",
       "     (raw_noise_constraint): GreaterThan(1.000E-04)\n",
       "   )\n",
       " ))"
      ]
     },
     "execution_count": 74,
     "metadata": {},
     "output_type": "execute_result"
    }
   ],
   "source": [
    "# Use the simplest form of GP model, exact inference\n",
    "class MGGPModel(gpytorch.models.ExactGP):\n",
    "    def __init__(self, train_x, train_y, likelihood):\n",
    "        super().__init__(train_x, train_y, likelihood)\n",
    "        self.mean_module = gpytorch.means.ZeroMean()\n",
    "        self.covar_module = gpytorch.kernels.ScaleKernel(spatialtemporalKernel(delta = delta))\n",
    "\n",
    "    def forward(self, x):\n",
    "        mean_x = self.mean_module(x)\n",
    "        covar_x = self.covar_module(x)\n",
    "        return gpytorch.distributions.MultivariateNormal(mean_x, covar_x)\n",
    "\n",
    "# initialize the new model\n",
    "likelihood = gpytorch.likelihoods.GaussianLikelihood()\n",
    "model = MGGPModel(train_x, train_y, likelihood)\n",
    "\n",
    "# set to training mode and train\n",
    "model.train()\n",
    "likelihood.train()\n",
    "train(model, likelihood)\n",
    "\n",
    "# Get into evaluation (predictive posterior) mode and predict\n",
    "# model.eval()\n",
    "# likelihood.eval()\n",
    "# observed_pred = predict(model, likelihood)"
   ]
  },
  {
   "cell_type": "code",
   "execution_count": 75,
   "id": "e3458f6e-9e7a-4300-8e01-8c7af621b12d",
   "metadata": {},
   "outputs": [
    {
     "data": {
      "text/plain": [
       "tensor([[0.1635]], grad_fn=<SoftplusBackward0>)"
      ]
     },
     "execution_count": 75,
     "metadata": {},
     "output_type": "execute_result"
    }
   ],
   "source": [
    "model.covar_module.base_kernel.lengthscale"
   ]
  },
  {
   "cell_type": "code",
   "execution_count": 76,
   "id": "3d09899f-8cea-4d70-9c5d-13905f972d14",
   "metadata": {},
   "outputs": [
    {
     "data": {
      "text/plain": [
       "tensor([[0.0117]], grad_fn=<SoftplusBackward0>)"
      ]
     },
     "execution_count": 76,
     "metadata": {},
     "output_type": "execute_result"
    }
   ],
   "source": [
    "model.covar_module.base_kernel.alpha"
   ]
  },
  {
   "cell_type": "markdown",
   "id": "db277311-1963-4456-8817-3bc5e1769963",
   "metadata": {},
   "source": [
    "# Trained on cluster 2"
   ]
  },
  {
   "cell_type": "code",
   "execution_count": 66,
   "id": "f45b084b-2fe1-4aed-aeca-4231ba8cdb8a",
   "metadata": {},
   "outputs": [],
   "source": [
    "pairwise_distances = squareform(pdist(dat.iloc[n_samples_1:(n_samples_1+n_samples_2),0:2]))**2\n",
    "pairwise_distances\n",
    "train_x = torch.tensor(np.array(dat.iloc[n_samples_1:(n_samples_1+n_samples_2),2:4]))\n",
    "train_y = torch.tensor(np.array(dat.y1[n_samples_1:(n_samples_1+n_samples_2)]))\n",
    "delta = torch.from_numpy(pairwise_distances)"
   ]
  },
  {
   "cell_type": "code",
   "execution_count": 67,
   "id": "ac0fe09a-eeeb-4df5-ad23-273bf036c6af",
   "metadata": {},
   "outputs": [
    {
     "data": {
      "text/plain": [
       "(MGGPModel(\n",
       "   (likelihood): GaussianLikelihood(\n",
       "     (noise_covar): HomoskedasticNoise(\n",
       "       (raw_noise_constraint): GreaterThan(1.000E-04)\n",
       "     )\n",
       "   )\n",
       "   (mean_module): ZeroMean()\n",
       "   (covar_module): ScaleKernel(\n",
       "     (base_kernel): spatialtemporalKernel(\n",
       "       (raw_lengthscale_constraint): Positive()\n",
       "       (raw_alpha_constraint): Positive()\n",
       "       (distance_module): Distance()\n",
       "     )\n",
       "     (raw_outputscale_constraint): Positive()\n",
       "   )\n",
       " ),\n",
       " GaussianLikelihood(\n",
       "   (noise_covar): HomoskedasticNoise(\n",
       "     (raw_noise_constraint): GreaterThan(1.000E-04)\n",
       "   )\n",
       " ))"
      ]
     },
     "execution_count": 67,
     "metadata": {},
     "output_type": "execute_result"
    }
   ],
   "source": [
    "# initialize the new model\n",
    "likelihood = gpytorch.likelihoods.GaussianLikelihood()\n",
    "model = MGGPModel(train_x, train_y, likelihood)\n",
    "\n",
    "# set to training mode and train\n",
    "model.train()\n",
    "likelihood.train()\n",
    "train(model, likelihood)"
   ]
  },
  {
   "cell_type": "code",
   "execution_count": 68,
   "id": "70b91236-5582-48d7-8f9b-c55f4c19e718",
   "metadata": {},
   "outputs": [
    {
     "data": {
      "text/plain": [
       "tensor([[0.0013]], grad_fn=<SoftplusBackward0>)"
      ]
     },
     "execution_count": 68,
     "metadata": {},
     "output_type": "execute_result"
    }
   ],
   "source": [
    "model.covar_module.base_kernel.lengthscale"
   ]
  },
  {
   "cell_type": "code",
   "execution_count": 69,
   "id": "c534693c-f989-422a-b201-d128109e01f1",
   "metadata": {},
   "outputs": [
    {
     "data": {
      "text/plain": [
       "tensor([[0.1701]], grad_fn=<SoftplusBackward0>)"
      ]
     },
     "execution_count": 69,
     "metadata": {},
     "output_type": "execute_result"
    }
   ],
   "source": [
    "model.covar_module.base_kernel.alpha"
   ]
  },
  {
   "cell_type": "markdown",
   "id": "fb8dec7e-1850-432a-8b3f-71a23afce832",
   "metadata": {},
   "source": [
    "# Trained on cluster 1 and 2"
   ]
  },
  {
   "cell_type": "code",
   "execution_count": 70,
   "id": "52ffa8e2-1472-4233-bd9b-516aef2ce5f1",
   "metadata": {},
   "outputs": [],
   "source": [
    "pairwise_distances = squareform(pdist(dat.iloc[:(n_samples_1+n_samples_2),0:2]))**2\n",
    "pairwise_distances\n",
    "train_x = torch.tensor(np.array(dat.iloc[:(n_samples_1+n_samples_2),2:4]))\n",
    "train_y = torch.tensor(np.array(dat.y1[:(n_samples_1+n_samples_2)]))\n",
    "delta = torch.from_numpy(pairwise_distances)"
   ]
  },
  {
   "cell_type": "code",
   "execution_count": 71,
   "id": "16a42362-aa2b-419c-944c-22356e95bc3e",
   "metadata": {},
   "outputs": [
    {
     "data": {
      "text/plain": [
       "(MGGPModel(\n",
       "   (likelihood): GaussianLikelihood(\n",
       "     (noise_covar): HomoskedasticNoise(\n",
       "       (raw_noise_constraint): GreaterThan(1.000E-04)\n",
       "     )\n",
       "   )\n",
       "   (mean_module): ZeroMean()\n",
       "   (covar_module): ScaleKernel(\n",
       "     (base_kernel): spatialtemporalKernel(\n",
       "       (raw_lengthscale_constraint): Positive()\n",
       "       (raw_alpha_constraint): Positive()\n",
       "       (distance_module): Distance()\n",
       "     )\n",
       "     (raw_outputscale_constraint): Positive()\n",
       "   )\n",
       " ),\n",
       " GaussianLikelihood(\n",
       "   (noise_covar): HomoskedasticNoise(\n",
       "     (raw_noise_constraint): GreaterThan(1.000E-04)\n",
       "   )\n",
       " ))"
      ]
     },
     "execution_count": 71,
     "metadata": {},
     "output_type": "execute_result"
    }
   ],
   "source": [
    "# initialize the new model\n",
    "likelihood = gpytorch.likelihoods.GaussianLikelihood()\n",
    "model = MGGPModel(train_x, train_y, likelihood)\n",
    "\n",
    "# set to training mode and train\n",
    "model.train()\n",
    "likelihood.train()\n",
    "train(model, likelihood)"
   ]
  },
  {
   "cell_type": "code",
   "execution_count": 72,
   "id": "13c9bfbf-2668-4929-b837-4368c9b3ec99",
   "metadata": {},
   "outputs": [
    {
     "name": "stdout",
     "output_type": "stream",
     "text": [
      "0.03997315093874931\n",
      "0.0327620692551136\n"
     ]
    }
   ],
   "source": [
    "print(model.covar_module.base_kernel.lengthscale.item())\n",
    "print(model.covar_module.base_kernel.alpha.item())"
   ]
  },
  {
   "cell_type": "code",
   "execution_count": null,
   "id": "007cd90b-2560-4fca-a913-f9d2378cb917",
   "metadata": {},
   "outputs": [],
   "source": []
  }
 ],
 "metadata": {
  "kernelspec": {
   "display_name": "GP",
   "language": "python",
   "name": "gp"
  },
  "language_info": {
   "codemirror_mode": {
    "name": "ipython",
    "version": 3
   },
   "file_extension": ".py",
   "mimetype": "text/x-python",
   "name": "python",
   "nbconvert_exporter": "python",
   "pygments_lexer": "ipython3",
   "version": "3.9.10"
  }
 },
 "nbformat": 4,
 "nbformat_minor": 5
}
